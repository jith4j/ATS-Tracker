{
  "nbformat": 4,
  "nbformat_minor": 0,
  "metadata": {
    "colab": {
      "provenance": [],
      "authorship_tag": "ABX9TyMAJUkxL+rK9ZtjBWjaG3fQ",
      "include_colab_link": true
    },
    "kernelspec": {
      "name": "python3",
      "display_name": "Python 3"
    },
    "language_info": {
      "name": "python"
    }
  },
  "cells": [
    {
      "cell_type": "markdown",
      "metadata": {
        "id": "view-in-github",
        "colab_type": "text"
      },
      "source": [
        "<a href=\"https://colab.research.google.com/github/jith4j/ATS-Tracker/blob/main/ATS_tracker.ipynb\" target=\"_parent\"><img src=\"https://colab.research.google.com/assets/colab-badge.svg\" alt=\"Open In Colab\"/></a>"
      ]
    },
    {
      "cell_type": "code",
      "execution_count": null,
      "metadata": {
        "colab": {
          "base_uri": "https://localhost:8080/",
          "height": 374
        },
        "id": "0eKgt6MFrgBm",
        "outputId": "cad47fd7-ab7a-4540-986f-4cf64f5e700a"
      },
      "outputs": [
        {
          "output_type": "stream",
          "name": "stdout",
          "text": [
            "models/gemini-1.0-pro-latest\n",
            "models/gemini-1.0-pro\n",
            "models/gemini-pro\n",
            "models/gemini-1.0-pro-001\n",
            "models/gemini-1.0-pro-vision-latest\n",
            "models/gemini-pro-vision\n",
            "models/gemini-1.5-pro-latest\n",
            "models/gemini-1.5-pro-001\n",
            "models/gemini-1.5-pro-002\n",
            "models/gemini-1.5-pro\n",
            "models/gemini-1.5-pro-exp-0801\n",
            "models/gemini-1.5-pro-exp-0827\n",
            "models/gemini-1.5-flash-latest\n",
            "models/gemini-1.5-flash-001\n",
            "models/gemini-1.5-flash-001-tuning\n",
            "models/gemini-1.5-flash\n",
            "models/gemini-1.5-flash-exp-0827\n",
            "models/gemini-1.5-flash-8b-exp-0827\n",
            "models/gemini-1.5-flash-8b-exp-0924\n",
            "models/gemini-1.5-flash-002\n"
          ]
        }
      ],
      "source": [
        "import google.generativeai as genai\n",
        "\n",
        "# Enter you Google API key\n",
        "GOOGLE_API_KEY=\"\"\n",
        "\n",
        "\n",
        "genai.configure(api_key=GOOGLE_API_KEY)\n",
        "\n",
        "for m in genai.list_models():\n",
        "  if 'generateContent' in m.supported_generation_methods:\n",
        "    print(m.name)"
      ]
    },
    {
      "cell_type": "code",
      "source": [
        "model = genai.GenerativeModel('gemini-1.5-flash')\n",
        "def get_gemini_response(prompt):\n",
        "   return model.generate_content(prompt)"
      ],
      "metadata": {
        "id": "8Zy6WsPcrrBj"
      },
      "execution_count": null,
      "outputs": []
    },
    {
      "cell_type": "code",
      "source": [
        "# insert your resume\n",
        "resume_text=\"\"\"\n",
        "\n",
        "\"\"\"\n",
        "\n",
        "# insert the job description\n",
        "job_description=\"\"\"\n",
        "\n",
        "\"\"\"\n",
        "\n",
        "# insert your skills\n",
        "job_profile=\"\"\"\n",
        "\n",
        "\"\"\""
      ],
      "metadata": {
        "id": "B3it4MzjsG68"
      },
      "execution_count": null,
      "outputs": []
    },
    {
      "cell_type": "code",
      "source": [
        "input_prompt = \"\"\"\n",
        "    You are an skilled ATS (Applicant Tracking System) scanner with a deep understanding in the field of {},\n",
        "    your task is to evaluate the resume against the provided job description. You should output first the percentage of match between the resume and\n",
        "    the job description, followed by keywords matching, keywords missing, specific changes for resume to reach matching percentage\n",
        "    of above 85 and lastly your final thoughts.\n",
        "    Resume: {}\n",
        "    Job Description: {}\n",
        "    \"\"\"\n",
        "prompt=input_prompt.format(job_profile, resume_text, job_description)\n",
        "response=get_gemini_response(prompt)\n",
        "for chunk in response:\n",
        "  print(chunk.text)\n",
        "  print(\"_\"*80)"
      ],
      "metadata": {
        "colab": {
          "base_uri": "https://localhost:8080/",
          "height": 573
        },
        "id": "zKNzsbZnsW3n",
        "outputId": "8f0b827a-f930-4dba-d336-2b6a11be812a"
      },
      "execution_count": null,
      "outputs": [
        {
          "output_type": "stream",
          "name": "stdout",
          "text": [
            "## Resume Evaluation for Data Scientist Position at Kleenheat\n",
            "\n",
            "**Match Percentage:** 75%\n",
            "\n",
            "**Keywords Matching:**\n",
            "\n",
            "* **Strong:** Python, R, SQL, Power BI, Machine Learning, Data Analysis, Statistical Modeling, AWS, Azure, Data Visualization, Cloud Tools, Analytical Skills, Problem Solving, Communication, Collaboration\n",
            "* **Moderate:** Data Wrangling (Pandas, NumPy),  Database Management (PostgreSQL, SSIS)\n",
            "\n",
            "**Keywords Missing:**\n",
            "\n",
            "* **Experience in Predicting Customer Behaviour:** The resume doesn't explicitly highlight experience in predicting customer behaviour, a key requirement for the role. \n",
            "* **Experience in Optimizing Product Offers:** The resume lacks mention of experience in optimizing product offers.\n",
            "* **Experience in Delivering Customer Win-Back Recommendations:** The resume doesn't showcase experience in customer win-back recommendations. \n",
            "* **Experience in Data-Driven Solutions for Business Problems:** While the resume lists projects, it needs to emphasize how those projects addressed specific business problems through data-driven solutions.\n",
            "* **Experience in Presenting to Management & Influencing Stakeholders:** While the resume mentions communication and collaboration, it doesn't highlight the specific skill of presenting findings to management and influencing stakeholders, which is essential for this role.\n",
            "\n",
            "**Specific Changes for Resume to Reach 85% Matching:**\n",
            "\n",
            "* **Highlight Experience in Predicting Customer Behaviour, Optimizing Product Offers, and Delivering Customer Win-Back Recommendations:** Re-frame some of the existing projects to showcase how they relate to these areas or add a brief section about relevant personal projects.\n",
            "* **Emphasize Data-Driven Solutions:**  For each project, clearly state the business problem addressed and how data analysis, machine learning, or data visualization techniques were used to deliver a solution. \n",
            "* **Focus on Impact:** Quantify the impact of your projects, e.g., \"Reduced claim rejection rates by 15%,\" \"Increased customer engagement by 20%,\" or \"Optimized product offers leading to a 10% increase in revenue.\" \n",
            "* **Strengthen Communication & Influence Skills:**  Add an accomplishment where you effectively communicated data-driven insights to management or influenced stakeholder decisions.\n",
            "* **Tailor the Summary:** Refine the summary to emphasize skills and experiences most relevant to this specific job description, especially those listed as \"what you'll need.\" \n",
            "\n",
            "**Final Thoughts:**\n",
            "\n",
            "The candidate possesses many of the essential skills and experience for the Data Scientist role at Kleenheat. However, the resume needs improvement in showcasing relevant experience in predicting customer behaviour, optimizing product offers, and delivering customer win-back recommendations. The candidate should also focus on clearly outlining how their projects resulted in data-driven solutions to business problems and quantify the impact of their work. By making these changes, the candidate can significantly improve their chances of getting shortlisted for this position. \n",
            "\n",
            "________________________________________________________________________________\n"
          ]
        }
      ]
    },
    {
      "cell_type": "code",
      "source": [],
      "metadata": {
        "id": "0WLP_qW4uEE5"
      },
      "execution_count": null,
      "outputs": []
    }
  ]
}